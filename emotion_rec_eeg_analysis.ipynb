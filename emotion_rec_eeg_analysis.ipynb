{
 "cells": [
  {
   "cell_type": "code",
   "execution_count": null,
   "id": "7ca6f709-a4e3-4d28-b7c9-9d14ab32fba4",
   "metadata": {},
   "outputs": [],
   "source": [
    "import matplotlib\n",
    "import pathlib\n",
    "import mne\n",
    "from mne.time_frequency import tfr_morlet\n",
    "from mne.channels import find_ch_adjacency\n",
    "import os"
   ]
  },
  {
   "cell_type": "markdown",
   "id": "1f8ec574-1c18-4801-bfbd-1ce3d5fc1605",
   "metadata": {},
   "source": [
    "Ensure Matplotlib uses the Qt5Agg backend, which is the best choice for MNE-Python's interactive plotting functions."
   ]
  },
  {
   "cell_type": "code",
   "execution_count": null,
   "id": "46d610fc-ae1a-48c3-b666-69cf2652b8d7",
   "metadata": {},
   "outputs": [],
   "source": [
    "matplotlib.use('Qt5Agg')"
   ]
  },
  {
   "cell_type": "code",
   "execution_count": null,
   "id": "9ef9ddb8-56c9-4d0f-a0af-7a5a3915c173",
   "metadata": {},
   "outputs": [],
   "source": [
    "import matplotlib.pyplot as plt"
   ]
  },
  {
   "cell_type": "markdown",
   "id": "b0af49e9-37c6-4ca1-b8ba-ec08a07f9184",
   "metadata": {},
   "source": [
    "Define paths, load and read data"
   ]
  },
  {
   "cell_type": "code",
   "execution_count": null,
   "id": "557ca0d3-eb3a-4822-a35f-18a6a8f9db49",
   "metadata": {},
   "outputs": [],
   "source": [
    "data_folder = '/Users/christinadelta/datasets/emotions_task'\n",
    "raw_file = os.path.join(data_folder, 'emotion_rec-fif.gz')\n",
    "\n",
    "raw = mne.io.read_raw_fif(raw_file, preload=True)\n",
    "#raw = mne.io.read_raw_fif(raw_file)"
   ]
  },
  {
   "cell_type": "code",
   "execution_count": null,
   "id": "de9d775a-beb1-40b1-885b-922d1f4cb711",
   "metadata": {},
   "outputs": [],
   "source": [
    "raw.plot()"
   ]
  },
  {
   "cell_type": "code",
   "execution_count": null,
   "id": "263bc6c7-3c7e-4d63-8f22-29f718440c04",
   "metadata": {},
   "outputs": [],
   "source": [
    "raw.info"
   ]
  },
  {
   "cell_type": "markdown",
   "id": "c97dedfb-484a-48f6-96ac-eeb3045a8dfb",
   "metadata": {},
   "source": [
    "Filter the data"
   ]
  },
  {
   "cell_type": "code",
   "execution_count": null,
   "id": "b112064b-05ec-473a-88b8-5acc93016163",
   "metadata": {},
   "outputs": [],
   "source": [
    "raw.filter(1,20)"
   ]
  },
  {
   "cell_type": "code",
   "execution_count": null,
   "id": "0f79a4e6-43dc-45bb-87fc-4f10788683ca",
   "metadata": {},
   "outputs": [],
   "source": [
    "# visualise both\n",
    "raw.plot(title='raw')\n",
    "raw_filt.plot(title='filtered')\n",
    "raw_filt2.plot(title='filtered2')"
   ]
  },
  {
   "cell_type": "markdown",
   "id": "f26b333e-9d46-4782-8e89-e2df01deb8c4",
   "metadata": {},
   "source": [
    "### Run ICA "
   ]
  },
  {
   "cell_type": "code",
   "execution_count": null,
   "id": "c2d4f279-e34d-4334-813c-44e034188df5",
   "metadata": {},
   "outputs": [],
   "source": [
    "ica = mne.preprocessing.ICA(n_components=20, random_state=0)"
   ]
  },
  {
   "cell_type": "code",
   "execution_count": null,
   "id": "93d1dafe-cfe6-4c8a-adff-d17ca8297649",
   "metadata": {},
   "outputs": [],
   "source": [
    "ica.fit(raw.copy().filter(8,35))"
   ]
  },
  {
   "cell_type": "code",
   "execution_count": null,
   "id": "50f73cf7-111a-48b9-860a-1371f3ed9b16",
   "metadata": {},
   "outputs": [],
   "source": [
    "ica.plot_components()"
   ]
  },
  {
   "cell_type": "markdown",
   "id": "61183e02-5777-451b-82f4-c83fd7575400",
   "metadata": {},
   "source": [
    "Remove the noisy components using the ica exclude. I have visualy inspected the components and marked the bad ones. So I need to only type ```ica.exclude```. If I had not marked the bad components I used specify a list like: ```ica.exclude = [components to be excluded]```"
   ]
  },
  {
   "cell_type": "markdown",
   "id": "4c769de8-d11d-4dc5-ad3a-2be4fcbe33e9",
   "metadata": {},
   "source": [
    "Try detecting the bad components with the automatic algorithm and see the differences "
   ]
  },
  {
   "cell_type": "code",
   "execution_count": null,
   "id": "061711db-d103-4963-a818-ec3235ef07ba",
   "metadata": {},
   "outputs": [],
   "source": [
    "bad_idx, scores = ica.find_bads_eog(raw, 'SO2', threshold=2)\n",
    "print(bad_idx)"
   ]
  },
  {
   "cell_type": "code",
   "execution_count": null,
   "id": "4111ce9e-e505-4d48-b402-7dd004a3ceb5",
   "metadata": {},
   "outputs": [],
   "source": [
    "ica.exclude = bad_idx"
   ]
  },
  {
   "cell_type": "code",
   "execution_count": null,
   "id": "d303e29c-3539-42f6-8588-652d5b496480",
   "metadata": {},
   "outputs": [],
   "source": [
    "ica.apply(raw.copy(), exclude=ica.exclude).plot()"
   ]
  },
  {
   "cell_type": "markdown",
   "id": "30da9eef-95bb-4e38-894f-be81822576cb",
   "metadata": {},
   "source": [
    "### Find Events"
   ]
  },
  {
   "cell_type": "code",
   "execution_count": null,
   "id": "84c8f1ab-c434-4268-bccc-b6e1485fbf14",
   "metadata": {},
   "outputs": [],
   "source": [
    "events = mne.find_events(raw)\n",
    "events"
   ]
  },
  {
   "cell_type": "code",
   "execution_count": null,
   "id": "c8d2c352-53bc-4b14-ab39-02a5f3973f8f",
   "metadata": {},
   "outputs": [],
   "source": [
    "event_id = {\n",
    "    \"type_1\": 200,\n",
    "    \"type_2\": 100\n",
    "}"
   ]
  },
  {
   "cell_type": "code",
   "execution_count": null,
   "id": "e33e73d3-35e3-4944-a220-ceef200b6e43",
   "metadata": {},
   "outputs": [],
   "source": [
    "raw.plot(events = events, event_id = event_id)"
   ]
  },
  {
   "cell_type": "code",
   "execution_count": null,
   "id": "f9369ad3-2450-40c5-98be-babd116143f9",
   "metadata": {},
   "outputs": [],
   "source": [
    "epochs = mne.Epochs(raw, \n",
    "                    events, \n",
    "                    event_id=event_id,\n",
    "                    preload=True)"
   ]
  },
  {
   "cell_type": "code",
   "execution_count": null,
   "id": "a98c1070-53a7-4ee9-a15c-1216a9a67e88",
   "metadata": {},
   "outputs": [],
   "source": [
    "epochs.plot(events=events, n_epochs=15)"
   ]
  },
  {
   "cell_type": "markdown",
   "id": "fd3b86d9-3033-4c7c-8ce7-55319390c0d5",
   "metadata": {},
   "source": [
    "### Apply ICA on epochs"
   ]
  },
  {
   "cell_type": "code",
   "execution_count": null,
   "id": "39fb6c2c-50d4-4259-838f-b1321df1fbbb",
   "metadata": {},
   "outputs": [],
   "source": [
    "epochs_ica = ica.apply(epochs, exclude=ica.exclude)"
   ]
  },
  {
   "cell_type": "code",
   "execution_count": null,
   "id": "8e57917f-fc48-406c-9852-3920743c5882",
   "metadata": {},
   "outputs": [],
   "source": [
    "epochs.apply_baseline((None, 0))"
   ]
  },
  {
   "cell_type": "code",
   "execution_count": null,
   "id": "04e0ba52-8498-491d-b175-6047f8801247",
   "metadata": {},
   "outputs": [],
   "source": [
    "# look at subsets of epochs \n",
    "epochs[\"type_1\"]"
   ]
  },
  {
   "cell_type": "code",
   "execution_count": null,
   "id": "b20d4a60-e842-4f93-8525-c0c66ecff5d5",
   "metadata": {},
   "outputs": [],
   "source": [
    "epochs.info"
   ]
  },
  {
   "cell_type": "markdown",
   "id": "8d45d36e-3a73-447f-972d-5be6a0990846",
   "metadata": {},
   "source": [
    "### How does the epoched activity look like?"
   ]
  },
  {
   "cell_type": "code",
   "execution_count": null,
   "id": "9311bd19-537e-4189-a55a-d077fb3d0211",
   "metadata": {},
   "outputs": [],
   "source": [
    "epochs['type_2'].plot_image(picks=[13])"
   ]
  },
  {
   "cell_type": "markdown",
   "id": "67ff327b-26f4-4af5-b30b-113248368c86",
   "metadata": {},
   "source": [
    "### Equalize the happy-face epochs and the fear-face epochs "
   ]
  },
  {
   "cell_type": "code",
   "execution_count": null,
   "id": "37d907db-7ba6-49f9-91fc-b6fd81fece57",
   "metadata": {},
   "outputs": [],
   "source": [
    "epochs.equalize_event_counts(event_id)\n",
    "epochs"
   ]
  },
  {
   "cell_type": "markdown",
   "id": "bb4f8a0d-3477-4ef7-9926-2d789b08ba2b",
   "metadata": {},
   "source": [
    "### Save the epochs object for later use (if needed)"
   ]
  },
  {
   "cell_type": "code",
   "execution_count": null,
   "id": "1d16edad-ab72-4bb6-a21b-e54884f4c2ac",
   "metadata": {},
   "outputs": [],
   "source": [
    "epochs.save(os.path.join(data_folder, 'emotion_rec-epo.fif'), overwrite=True) "
   ]
  },
  {
   "cell_type": "markdown",
   "id": "d4e10cba-9714-47e0-855b-30e5994af6d9",
   "metadata": {},
   "source": [
    "### Create epochs for time-frequency analysis"
   ]
  },
  {
   "cell_type": "code",
   "execution_count": null,
   "id": "d2aa3e95-0f72-4d7a-bf51-454dd1d62358",
   "metadata": {},
   "outputs": [],
   "source": [
    "tmin = -.5\n",
    "tmax = 1.5\n",
    "tfr_epochs = mne.Epochs(raw, \n",
    "                        events, \n",
    "                        event_id=event_id, \n",
    "                        tmin=tmin, \n",
    "                        tmax=tmax, \n",
    "                        preload=True)\n",
    "\n",
    "tfr_epochs = ica.apply(tfr_epochs, exclude=ica.exclude)"
   ]
  },
  {
   "cell_type": "code",
   "execution_count": null,
   "id": "73a35874-16d0-4756-b423-f06dce511166",
   "metadata": {},
   "outputs": [],
   "source": [
    "tfr_epochs.equalize_event_counts(event_id)"
   ]
  },
  {
   "cell_type": "code",
   "execution_count": null,
   "id": "b0a1b0df-b3a3-4f57-bb3d-aa3d6c2cdd4f",
   "metadata": {},
   "outputs": [],
   "source": [
    "tfr_epochs.save(os.path.join(data_folder, 'emotion_rec_tfr-epo.fif'), overwrite=True) "
   ]
  },
  {
   "cell_type": "markdown",
   "id": "18232ea3-2236-44c3-84c0-b0ef09bc12cd",
   "metadata": {},
   "source": [
    "### Evoked \n",
    "average epochs over trials "
   ]
  },
  {
   "cell_type": "code",
   "execution_count": null,
   "id": "ef1332b6-f827-4437-9e56-077e5ee93e68",
   "metadata": {},
   "outputs": [],
   "source": [
    "type1 = epochs['type_1'].average()\n",
    "type1\n",
    "\n",
    "type2 = epochs['type_2'].average()\n",
    "type2"
   ]
  },
  {
   "cell_type": "code",
   "execution_count": null,
   "id": "c3df3b94-0dbc-4a0e-8dc7-12cd187618ff",
   "metadata": {},
   "outputs": [],
   "source": [
    "epochs"
   ]
  },
  {
   "cell_type": "markdown",
   "id": "f9614d50-96eb-4603-b5ed-a42c19e2215e",
   "metadata": {},
   "source": [
    "To take a look at the actual data "
   ]
  },
  {
   "cell_type": "code",
   "execution_count": null,
   "id": "29fdc4d1-26c2-4097-8481-f6b13e19aed2",
   "metadata": {},
   "outputs": [],
   "source": [
    "epochs.get_data().shape"
   ]
  },
  {
   "cell_type": "code",
   "execution_count": null,
   "id": "1c5f106c-3108-4d27-9df1-93ed41b10770",
   "metadata": {},
   "outputs": [],
   "source": [
    "type1.plot_topomap(times = [0.1, 0.2, 0.3, 0.4])"
   ]
  },
  {
   "cell_type": "code",
   "execution_count": null,
   "id": "4f14e034-a4a5-47f1-965c-8c76887c1864",
   "metadata": {},
   "outputs": [],
   "source": [
    "type2.plot_topomap(times = [0.1, 0.2, 0.3, 0.4])"
   ]
  },
  {
   "cell_type": "code",
   "execution_count": null,
   "id": "90a4dc4f-72e9-4161-b0d5-a6c8b704acc6",
   "metadata": {},
   "outputs": [],
   "source": [
    "type2.plot()"
   ]
  },
  {
   "cell_type": "code",
   "execution_count": null,
   "id": "ceced487-bccb-42ea-a2a3-9b85ec473a17",
   "metadata": {},
   "outputs": [],
   "source": [
    "type1.plot()"
   ]
  },
  {
   "cell_type": "code",
   "execution_count": null,
   "id": "10421aab-ca01-4ae5-a8a4-0d72cdcdfeba",
   "metadata": {},
   "outputs": [],
   "source": [
    "type2.plot_joint(times = [0.1, 0.2, 0.3, 0.4])"
   ]
  },
  {
   "cell_type": "markdown",
   "id": "71e81dee-c277-4ec7-9d6a-939ddee2ae2f",
   "metadata": {},
   "source": [
    "### Plot condition contrasts"
   ]
  },
  {
   "cell_type": "code",
   "execution_count": null,
   "id": "6e97dba0-86ec-4ef8-8247-4183aac351ec",
   "metadata": {},
   "outputs": [],
   "source": [
    "diff = mne.combine_evoked((type2, -type1), weights='equal')\n",
    "diff.plot_joint()"
   ]
  },
  {
   "cell_type": "markdown",
   "id": "80a8f8ff-19de-4d9c-97ce-edf3d89a5c5e",
   "metadata": {},
   "source": [
    "### Plot condition contrasts as an image"
   ]
  },
  {
   "cell_type": "code",
   "execution_count": null,
   "id": "d0cab972-e66b-4809-815f-989cbe104ec5",
   "metadata": {},
   "outputs": [],
   "source": [
    "diff.plot_image()"
   ]
  },
  {
   "cell_type": "code",
   "execution_count": null,
   "id": "0454010e-4a84-4066-9d40-3166e4479540",
   "metadata": {},
   "outputs": [],
   "source": [
    "rois = mne.channels.make_1020_channel_selections(diff.info, midline=\"z12\")\n",
    "diff.plot_image(group_by=rois, show=False, show_names=\"all\")"
   ]
  },
  {
   "cell_type": "code",
   "execution_count": null,
   "id": "81146429-3fca-45cb-a793-319b7de10caf",
   "metadata": {},
   "outputs": [],
   "source": [
    "mne.viz.plot_compare_evokeds({\"fear\": type1,\n",
    "                              \"happy\": type2}, picks=[13])"
   ]
  },
  {
   "cell_type": "code",
   "execution_count": null,
   "id": "f7086558-1252-44c8-b7ee-2c8bff3b4454",
   "metadata": {},
   "outputs": [],
   "source": [
    "type2.plot_topo()"
   ]
  },
  {
   "cell_type": "markdown",
   "id": "1f5105e3-6c9b-4346-ae95-7ec8f0b94201",
   "metadata": {},
   "source": [
    "### Time-Frequency Analysis"
   ]
  },
  {
   "cell_type": "code",
   "execution_count": null,
   "id": "22508c7b-d724-4dd2-a5d5-b4c9beb626a7",
   "metadata": {},
   "outputs": [],
   "source": [
    "happy = type2.data\n",
    "fear = type1.data\n",
    "ch_names = type2.info['ch_names']"
   ]
  },
  {
   "cell_type": "code",
   "execution_count": null,
   "id": "f246cf84-77f9-42fb-957b-bf59aab58f63",
   "metadata": {},
   "outputs": [],
   "source": [
    "samp_ch = 'C4'\n",
    "ch_idx = [i for i, j in enumerate(ch_names) if j == samp_ch]"
   ]
  },
  {
   "cell_type": "code",
   "execution_count": null,
   "id": "22e047de-f8a4-4541-901e-543c838137a2",
   "metadata": {},
   "outputs": [],
   "source": [
    "plt.plot(happy[ch_idx[0],:])\n",
    "plt.title(samp_ch)\n",
    "plt.ylabel('amplitude')\n",
    "plt.xlabel('time')"
   ]
  },
  {
   "cell_type": "code",
   "execution_count": null,
   "id": "2f32c452-4647-405a-8579-f39177ef3075",
   "metadata": {},
   "outputs": [],
   "source": [
    "epochs_tfr = tfr_epochs\n",
    "epochs_tfr"
   ]
  },
  {
   "cell_type": "code",
   "execution_count": null,
   "id": "bdb17b1e-3d37-4fe6-aa55-43603df93599",
   "metadata": {},
   "outputs": [],
   "source": [
    "epochs_tfr.plot_psd(fmin=0, fmax=40)"
   ]
  },
  {
   "cell_type": "markdown",
   "id": "4f112a76-d79c-451c-a57f-48226c85c019",
   "metadata": {},
   "source": [
    "### What aboout effects?\n",
    "We will extract power per time and frequency with Morlet wavelets "
   ]
  },
  {
   "cell_type": "code",
   "execution_count": null,
   "id": "8096ec1f-52b9-46a8-bd72-c7a829c16466",
   "metadata": {},
   "outputs": [],
   "source": [
    "freqs = list(range(3,30))\n",
    "tfr_happy = tfr_morlet(epochs_tfr[\"type_2\"], freqs, 3, return_itc=False)\n",
    "tfr_fear = tfr_morlet(epochs_tfr[\"type_1\"], freqs, 3, return_itc=False)"
   ]
  },
  {
   "cell_type": "code",
   "execution_count": null,
   "id": "ff939b50-b32c-4ebe-8e5b-4b51d674ff21",
   "metadata": {},
   "outputs": [],
   "source": [
    "tfr_happy.data.shape"
   ]
  },
  {
   "cell_type": "markdown",
   "id": "a7f6c8a4-996f-44c6-8feb-60fbbf3fba45",
   "metadata": {},
   "source": [
    "Now, the time-frequency data is stored in TRF objects "
   ]
  },
  {
   "cell_type": "code",
   "execution_count": null,
   "id": "15e3f42f-a006-418c-8a15-7923f913c678",
   "metadata": {},
   "outputs": [],
   "source": [
    "tfr_contrast = mne.combine_evoked((tfr_fear, tfr_happy), (-.5, .5))\n",
    "tfr_contrast.apply_baseline((None, 0))"
   ]
  },
  {
   "cell_type": "markdown",
   "id": "2e7aee20-80b5-4bcc-8b58-2e512169e875",
   "metadata": {},
   "source": [
    "when in time and at what frequencies do we have significant differencies between the two conditions?"
   ]
  },
  {
   "cell_type": "code",
   "execution_count": null,
   "id": "8654acbe-5ea6-4622-8d39-c9026aff957b",
   "metadata": {},
   "outputs": [],
   "source": [
    "tfr_contrast.plot_joint()"
   ]
  },
  {
   "cell_type": "markdown",
   "id": "a4b59f2e-083e-43d4-869d-228ae1b871c5",
   "metadata": {},
   "source": [
    "### Run statistics\n",
    "Can we statistically threshold the images to see which effects are reliable?"
   ]
  },
  {
   "cell_type": "code",
   "execution_count": null,
   "id": "612190ec-4756-40b8-a2a2-3249fbb43dde",
   "metadata": {},
   "outputs": [],
   "source": [
    "diff.plot_image(group_by=rois, show=False, show_names=\"all\")"
   ]
  },
  {
   "cell_type": "markdown",
   "id": "61a5e986-c9ec-4398-b0cd-1c6b6c64d4a8",
   "metadata": {},
   "source": [
    "### Cluster-based permutation stats\n"
   ]
  },
  {
   "cell_type": "code",
   "execution_count": null,
   "id": "1988367c-5875-4fe0-ad4a-0f3d41409558",
   "metadata": {},
   "outputs": [],
   "source": [
    "adjacency, ch_names = find_ch_adjacency(epochs.info, ch_type='eeg')\n",
    "plt.imshow(adjacency.toarray(), cmap=\"Greys\")"
   ]
  },
  {
   "cell_type": "markdown",
   "id": "4ed17451-b040-49b3-a840-3f410c409b1b",
   "metadata": {},
   "source": [
    "Now we need the data in the right shape. Sadly, because the space dimension needs to be last, we need to manually swap the time and space axes."
   ]
  },
  {
   "cell_type": "code",
   "execution_count": null,
   "id": "bd4a9620-990e-41f0-a7bb-e95dbecb21fd",
   "metadata": {},
   "outputs": [],
   "source": [
    "epochs.pick_types(eeg=True)\n",
    "type2_epochs, type1_epochs = epochs[\"type_2\"].get_data(), epochs[\"type_1\"].get_data()\n",
    "type2_epochs.shape, type1_epochs.shape"
   ]
  },
  {
   "cell_type": "code",
   "execution_count": null,
   "id": "195d4af8-4ea5-4c03-80b7-95957b567c34",
   "metadata": {},
   "outputs": [],
   "source": [
    "type2_epochs = type2_epochs.swapaxes(1, 2)\n",
    "type1_epochs = type1_epochs.swapaxes(1, 2)\n",
    "type2_epochs.shape, type1_epochs.shape"
   ]
  },
  {
   "cell_type": "code",
   "execution_count": null,
   "id": "aa02e505-b4c2-40d2-a249-691615a51e7a",
   "metadata": {},
   "outputs": [],
   "source": []
  }
 ],
 "metadata": {
  "kernelspec": {
   "display_name": "Python 3",
   "language": "python",
   "name": "python3"
  },
  "language_info": {
   "codemirror_mode": {
    "name": "ipython",
    "version": 3
   },
   "file_extension": ".py",
   "mimetype": "text/x-python",
   "name": "python",
   "nbconvert_exporter": "python",
   "pygments_lexer": "ipython3",
   "version": "3.7.7"
  }
 },
 "nbformat": 4,
 "nbformat_minor": 5
}
